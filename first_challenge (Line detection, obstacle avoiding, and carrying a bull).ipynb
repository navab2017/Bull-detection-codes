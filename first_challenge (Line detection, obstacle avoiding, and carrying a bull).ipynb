{
 "cells": [
  {
   "cell_type": "markdown",
   "metadata": {},
   "source": [
    "## Ball Picking Challenge\n",
    "\n",
    "### Part 1: Navigation\n",
    "\n",
    "The aim is to program the robot for the first part of the challenge: follow the line from the beginning to the destination point. To do so, you need to reuse the abilities learnt in weeks 1-3; please feel free to reuse the code of those notebooks and exercises."
   ]
  },
  {
   "cell_type": "code",
   "execution_count": 364,
   "metadata": {
    "collapsed": true
   },
   "outputs": [],
   "source": [
    "# and here starts your job, good luck!"
   ]
  },
  {
   "cell_type": "code",
   "execution_count": 365,
   "metadata": {
    "collapsed": false
   },
   "outputs": [
    {
     "name": "stdout",
     "output_type": "stream",
     "text": [
      "Found ROS controller /pioneer3dx_28647_ip_172_31_10_144\n"
     ]
    }
   ],
   "source": [
    "import packages.initialization\n",
    "import pioneer3dx as p3dx\n",
    "p3dx.init()\n",
    "import cv2\n",
    "import numpy"
   ]
  },
  {
   "cell_type": "code",
   "execution_count": 366,
   "metadata": {
    "collapsed": true
   },
   "outputs": [],
   "source": [
    "#%matplotlib inline\n",
    "#import matplotlib.pyplot as plt"
   ]
  },
  {
   "cell_type": "code",
   "execution_count": 367,
   "metadata": {
    "collapsed": false
   },
   "outputs": [
    {
     "data": {
      "text/plain": [
       "'\\np3dx.tilt(-0.47)\\nmove(0.1,0)\\np3dx.sleep(2)\\nmove(0,0)\\nplt.imshow(p3dx.image);\\n'"
      ]
     },
     "execution_count": 367,
     "metadata": {},
     "output_type": "execute_result"
    }
   ],
   "source": [
    "\"\"\"\n",
    "p3dx.tilt(-0.47)\n",
    "move(0.1,0)\n",
    "p3dx.sleep(2)\n",
    "move(0,0)\n",
    "plt.imshow(p3dx.image);\n",
    "\"\"\""
   ]
  },
  {
   "cell_type": "code",
   "execution_count": 368,
   "metadata": {
    "collapsed": true
   },
   "outputs": [],
   "source": [
    "DEF_X_SPEED = 0.22\n",
    "DEF_YAW_SPEED = 0.34\n",
    "\n",
    "MIN_WALL_THRESHOLD = 0.15\n",
    "MAX_WALL_THRESHOLD = 0.2"
   ]
  },
  {
   "cell_type": "code",
   "execution_count": 369,
   "metadata": {
    "collapsed": true
   },
   "outputs": [],
   "source": [
    "def is_obstacle_detected():\n",
    "    Threshold = 0.41\n",
    "    if min(p3dx.distance[3:5]) < Threshold:\n",
    "        return True\n",
    "    else:\n",
    "        return False"
   ]
  },
  {
   "cell_type": "code",
   "execution_count": 370,
   "metadata": {
    "collapsed": true
   },
   "outputs": [],
   "source": [
    "def follow_line():\n",
    "    print('Following the line')\n",
    "    width = 150\n",
    "    Kp = 0.05\n",
    "    while not is_obstacle_detected():  \n",
    "        cx, cy, line_end = line_centroid(p3dx.image)\n",
    "        if line_end == False:\n",
    "            if cx != None:\n",
    "                err = cx - width/2\n",
    "                linear = 0.4\n",
    "                angular = -Kp*err\n",
    "                move(linear, angular)\n",
    "            else:\n",
    "                move(linear, 0)\n",
    "        else:\n",
    "            move(0,0)\n",
    "    print('Obstacle detected')"
   ]
  },
  {
   "cell_type": "code",
   "execution_count": 371,
   "metadata": {
    "collapsed": true
   },
   "outputs": [],
   "source": [
    "def getWall():\n",
    "    leftSide, frontSide = getSonars()\n",
    "    # move forward until an obstacle is detected at the front\n",
    "    while frontSide > MAX_WALL_THRESHOLD:       \n",
    "        move(DEF_X_SPEED,0)\n",
    "        leftSide, frontSide = getSonars()\n",
    "    #move(0,0)    \n",
    "    # turn until the wall is detected by sonar 0\n",
    "    while leftSide > MAX_WALL_THRESHOLD:\n",
    "        if frontSide < p3dx.distance[7] :\n",
    "            yawSpeed = DEF_YAW_SPEED * 3\n",
    "        else:\n",
    "            yawSpeed = DEF_YAW_SPEED\n",
    "        move(0,-yawSpeed)\n",
    "        leftSide, frontSide = getSonars()\n",
    "    move(0,0)"
   ]
  },
  {
   "cell_type": "code",
   "execution_count": 372,
   "metadata": {
    "collapsed": true
   },
   "outputs": [],
   "source": [
    "def is_line_detected():\n",
    "    cx, cy, line_end = line_centroid(p3dx.image)\n",
    "    if cx != None:\n",
    "        return True\n",
    "    else:\n",
    "        return False"
   ]
  },
  {
   "cell_type": "code",
   "execution_count": 373,
   "metadata": {
    "collapsed": true
   },
   "outputs": [],
   "source": [
    "def follow_wall():\n",
    "    print('Following the wall')\n",
    "    while not is_line_detected():\n",
    "        leftSide, frontSide = getSonars()\n",
    "        # by default, just move forward\n",
    "        xSpeed = DEF_X_SPEED\n",
    "        yawSpeed = 0\n",
    "        # if we're getting too close to the wall with the front side...\n",
    "        if frontSide < MIN_WALL_THRESHOLD:\n",
    "            # go backward and turn left quickly (x4)\n",
    "            xSpeed = -0.1\n",
    "            yawSpeed = DEF_YAW_SPEED * 4\n",
    "        else:\n",
    "            # if we're getting too close to the wall with the left side...\n",
    "            if leftSide < MIN_WALL_THRESHOLD:\n",
    "                # move slowly forward (x0.5) and turn left\n",
    "                xSpeed  = DEF_X_SPEED * 0.5\n",
    "                yawSpeed = DEF_YAW_SPEED\n",
    "            else:\n",
    "                # if we're getting too far away from the wall with the right side...\n",
    "                if leftSide > MAX_WALL_THRESHOLD:\n",
    "                    # move slowly forward (x0.5) and turn left\n",
    "                    xSpeed  = DEF_X_SPEED * 0.8\n",
    "                    yawSpeed = -DEF_YAW_SPEED\n",
    "        # Move the robot\n",
    "        move(xSpeed,-yawSpeed)\n",
    "    print('Line detected')"
   ]
  },
  {
   "cell_type": "code",
   "execution_count": 374,
   "metadata": {
    "collapsed": true
   },
   "outputs": [],
   "source": [
    "def getLine():\n",
    "    width = 150\n",
    "    Kp = 0.1\n",
    "    Kpp = 0.2\n",
    "    cx,cy, line_end = line_centroid(p3dx.image)\n",
    "    err = cx - width/2\n",
    "    move(0,0)\n",
    "    if is_line_detected():\n",
    "        err = cx - width/2\n",
    "        while err > 1:\n",
    "            linear = Kpp*err\n",
    "            angular = -Kp*err\n",
    "            move(linear, angular)\n",
    "            cx,cy = line_centroid(p3dx.image)\n",
    "            err = cx - width/2"
   ]
  },
  {
   "cell_type": "code",
   "execution_count": null,
   "metadata": {
    "collapsed": true
   },
   "outputs": [],
   "source": [
    "# Lower-level functions\n",
    "def line_centroid(image):\n",
    "    hsv = cv2.cvtColor(p3dx.image, cv2.COLOR_RGB2HSV)\n",
    "    lower_purple = numpy.array([135, 50, 50])\n",
    "    upper_purple = numpy.array([165, 255, 255])\n",
    "    \n",
    "    lower_green = numpy.array([50, 50, 50])\n",
    "    upper_green = numpy.array([70, 255, 255])\n",
    "    \n",
    "    mask_purple = cv2.inRange(hsv, lower_purple, upper_purple)\n",
    "    mask_purple[0:80, 0:150] = 0\n",
    "    \n",
    "    mask_green = cv2.inRange(hsv, lower_green, upper_green)\n",
    "    mask_green[0:80, 0:150] = 0\n",
    "    \n",
    "    M_purple = cv2.moments(mask_purple)\n",
    "    \n",
    "    M_green = cv2.moments(mask_green)\n",
    "    \n",
    "    line_end = False\n",
    "    \n",
    "    if M_purple['m00'] != 0 :\n",
    "        if M_green ['m00'] == 0 :\n",
    "            cx = int(M_purple['m10']/M_purple['m00'])\n",
    "            cy = int(M_purple['m01']/M_purple['m00'])\n",
    "        else:\n",
    "            cx = (int(M_purple['m10']/M_purple['m00']) + int(M_green['m10']/M_green['m00'])) / 2\n",
    "            cy = (int(M_purple['m01']/M_purple['m00']) + int(M_green['m01']/M_green['m00'])) / 2\n",
    "            \n",
    "    else:\n",
    "        if M_green ['m00'] == 0 :\n",
    "            cx = None\n",
    "            cy = None\n",
    "        else:\n",
    "            cx = None\n",
    "            cy = None\n",
    "            line_end = True\n",
    "    return cx, cy, line_end\n",
    "\n",
    "def move(V_robot,w_robot):\n",
    "    r = 0.1953 / 2\n",
    "    L = 0.33\n",
    "    w_r = (2 * V_robot + L * w_robot) / (2*r)\n",
    "    w_l = (2 * V_robot - L * w_robot) / (2*r)\n",
    "    p3dx.move(w_l, w_r)\n",
    "    \n",
    "def getSonars():\n",
    "    leftSide = p3dx.distance[0]\n",
    "    #rightSide = p3dx.distance[7]\n",
    "    frontSide = min(p3dx.distance[3:5])\n",
    "    return leftSide, frontSide"
   ]
  },
  {
   "cell_type": "code",
   "execution_count": null,
   "metadata": {
    "collapsed": false
   },
   "outputs": [
    {
     "name": "stdout",
     "output_type": "stream",
     "text": [
      "Following the line\n",
      "Obstacle detected\n",
      "Following the wall\n"
     ]
    }
   ],
   "source": [
    "p3dx.tilt(-0.4)\n",
    "try:\n",
    "    while True:\n",
    "        follow_line()\n",
    "        getWall()\n",
    "        follow_wall()\n",
    "        getLine()\n",
    "except KeyboardInterrupt:\n",
    "    move(0,0)"
   ]
  },
  {
   "cell_type": "code",
   "execution_count": null,
   "metadata": {
    "collapsed": true
   },
   "outputs": [],
   "source": []
  },
  {
   "cell_type": "markdown",
   "metadata": {},
   "source": [
    "---\n",
    "#### Try-a-Bot: an open source guide for robot programming\n",
    "Developed by:\n",
    "[![Robotic Intelligence Lab @ UJI](img/logo/robinlab.png \"Robotic Intelligence Lab @ UJI\")](http://robinlab.uji.es)\n",
    "\n",
    "Sponsored by:\n",
    "<table>\n",
    "<tr>\n",
    "<td style=\"border:1px solid #ffffff ;\">\n",
    "<a href=\"http://www.ieee-ras.org\"><img src=\"img/logo/ras.png\"></a>\n",
    "</td>\n",
    "<td style=\"border:1px solid #ffffff ;\">\n",
    "<a href=\"http://www.cyberbotics.com\"><img src=\"img/logo/cyberbotics.png\"></a>\n",
    "</td>\n",
    "<td style=\"border:1px solid #ffffff ;\">\n",
    "<a href=\"http://www.theconstructsim.com\"><img src=\"img/logo/theconstruct.png\"></a>\n",
    "</td>\n",
    "</tr>\n",
    "</table>\n",
    "\n",
    "Follow us:\n",
    "<table>\n",
    "<tr>\n",
    "<td style=\"border:1px solid #ffffff ;\">\n",
    "<a href=\"https://www.facebook.com/RobotProgrammingNetwork\"><img src=\"img/logo/facebook.png\"></a>\n",
    "</td>\n",
    "<td style=\"border:1px solid #ffffff ;\">\n",
    "<a href=\"https://www.youtube.com/user/robotprogrammingnet\"><img src=\"img/logo/youtube.png\"></a>\n",
    "</td>\n",
    "</tr>\n",
    "</table>"
   ]
  }
 ],
 "metadata": {
  "kernelspec": {
   "display_name": "Python 2",
   "language": "python",
   "name": "python2"
  },
  "language_info": {
   "codemirror_mode": {
    "name": "ipython",
    "version": 2
   },
   "file_extension": ".py",
   "mimetype": "text/x-python",
   "name": "python",
   "nbconvert_exporter": "python",
   "pygments_lexer": "ipython2",
   "version": "2.7.11"
  }
 },
 "nbformat": 4,
 "nbformat_minor": 0
}
