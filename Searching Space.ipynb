{
 "cells": [
  {
   "cell_type": "markdown",
   "metadata": {},
   "source": [
    "# Searching for Free Space\n",
    "\n",
    "After an obstacle is detected, the robot must turn either left or right in search for free space, and move forward again.\n",
    "\n",
    "<img align=\"right\" src=\"img/free_choice.png\" />\n",
    "Here is one possible solution:\n",
    "\n",
    "* `Find the minimum of the left sensors (0, 1, 2)`\n",
    "* `Find the minimum of the right sensors (5, 6, 7)`\n",
    "* `If the left minimum is bigger than the right minimum`\n",
    "  * `Turn left`\n",
    "* `Else`\n",
    "  * `Turn right`\n",
    "* `In any case, keep turning until both front sensors (3, 4) are bigger than the chosen minimum`\n",
    "\n",
    "In the sample figure, the robot would turn right, since the minimum of the right side sensors (green arc) is bigger than the one of the left side (red arc)."
   ]
  },
  {
   "cell_type": "code",
   "execution_count": 36,
   "metadata": {
    "collapsed": false
   },
   "outputs": [],
   "source": [
    "import packages.initialization\n",
    "import pioneer3dx as p3dx\n",
    "p3dx.init()"
   ]
  },
  {
   "cell_type": "markdown",
   "metadata": {},
   "source": [
    "#### Minimum and maximum of an array\n",
    "\n",
    "For finding the minimum and maximum of an array, you can use the [Python built-in functions min and max](https://docs.python.org/2/library/functions.html#max)."
   ]
  },
  {
   "cell_type": "code",
   "execution_count": 37,
   "metadata": {
    "collapsed": false
   },
   "outputs": [
    {
     "data": {
      "text/plain": [
       "[0.8318138122558594,\n",
       " 1.0916780233383179,\n",
       " 1.1328060626983643,\n",
       " 0.9833648800849915,\n",
       " 0.9907994866371155,\n",
       " 1.1425634622573853,\n",
       " 1.6080098152160645,\n",
       " 2.4042770862579346]"
      ]
     },
     "execution_count": 37,
     "metadata": {},
     "output_type": "execute_result"
    }
   ],
   "source": [
    "p3dx.distance"
   ]
  },
  {
   "cell_type": "code",
   "execution_count": 38,
   "metadata": {
    "collapsed": false
   },
   "outputs": [
    {
     "data": {
      "text/plain": [
       "0.8318138122558594"
      ]
     },
     "execution_count": 38,
     "metadata": {},
     "output_type": "execute_result"
    }
   ],
   "source": [
    "min(p3dx.distance)"
   ]
  },
  {
   "cell_type": "code",
   "execution_count": 39,
   "metadata": {
    "collapsed": false
   },
   "outputs": [
    {
     "data": {
      "text/plain": [
       "2.4042770862579346"
      ]
     },
     "execution_count": 39,
     "metadata": {},
     "output_type": "execute_result"
    }
   ],
   "source": [
    "max(p3dx.distance)"
   ]
  },
  {
   "cell_type": "markdown",
   "metadata": {},
   "source": [
    "You can use only some values of the array, with the [Python slice notation for lists](http://stackoverflow.com/questions/509211/explain-pythons-slice-notation):"
   ]
  },
  {
   "cell_type": "code",
   "execution_count": 40,
   "metadata": {
    "collapsed": false
   },
   "outputs": [],
   "source": [
    "# left sensors (0,1,2)\n",
    "so_left = p3dx.distance[0:3]"
   ]
  },
  {
   "cell_type": "code",
   "execution_count": 41,
   "metadata": {
    "collapsed": false
   },
   "outputs": [],
   "source": [
    "# front sensors (3,4)\n",
    "so_front = p3dx.distance[3:5]"
   ]
  },
  {
   "cell_type": "code",
   "execution_count": 42,
   "metadata": {
    "collapsed": false
   },
   "outputs": [],
   "source": [
    "# right sensors (5,6,7)\n",
    "so_right = p3dx.distance[5:]"
   ]
  },
  {
   "cell_type": "markdown",
   "metadata": {},
   "source": [
    "#### Exercise\n",
    "\n",
    "Implement the above-mentioned algorithm for turning towards free space:\n",
    "* `Find the minimum of the left sensors (0, 1, 2)`\n",
    "* `Find the minimum of the right sensors (5, 6, 7)`\n",
    "* `If the left minimum is bigger than the right minimum`\n",
    "  * `Turn left`\n",
    "* `Else`\n",
    "  * `Turn right`\n",
    "* `In any case, keep turning until both front sensors (3, 4) are bigger than the chosen minimum`"
   ]
  },
  {
   "cell_type": "code",
   "execution_count": 43,
   "metadata": {
    "collapsed": false
   },
   "outputs": [
    {
     "name": "stdout",
     "output_type": "stream",
     "text": [
      "0.841092586517\n",
      "1.14153957367\n",
      "0.971763193607\n"
     ]
    }
   ],
   "source": [
    "so_left = p3dx.distance[0:3]\n",
    "so_front = p3dx.distance[3:5]\n",
    "so_right = p3dx.distance[5:]\n",
    "minLeft = min(so_left)\n",
    "print minLeft\n",
    "minRight = min(so_right)\n",
    "print minRight\n",
    "minFront = min(so_front)\n",
    "print minFront\n",
    "minDistance = 1.0"
   ]
  },
  {
   "cell_type": "code",
   "execution_count": 44,
   "metadata": {
    "collapsed": false
   },
   "outputs": [],
   "source": [
    "if minLeft > minRight :\n",
    "    while minFront < minDistance:\n",
    "        p3dx.move(-1,1)\n",
    "        minLeft = min(p3dx.distance[0:3])\n",
    "        minFront = min(p3dx.distance[3:5])\n",
    "        minRight = min(p3dx.distance[5:])\n",
    "else:\n",
    "    while minFront < minDistance:\n",
    "        p3dx.move(1,-1)\n",
    "        minLeft = min(p3dx.distance[0:3])\n",
    "        minFront = min(p3dx.distance[3:5])\n",
    "        minRight = min(p3dx.distance[5:])\n",
    "p3dx.stop()"
   ]
  },
  {
   "cell_type": "markdown",
   "metadata": {},
   "source": [
    "You can plot a diagram with the resulting position of the robot in the environment, and the measurements of the ultrasonic sensors."
   ]
  },
  {
   "cell_type": "code",
   "execution_count": 45,
   "metadata": {
    "collapsed": false
   },
   "outputs": [],
   "source": [
    "%matplotlib inline\n",
    "import ultrasonic"
   ]
  },
  {
   "cell_type": "code",
   "execution_count": 46,
   "metadata": {
    "collapsed": false
   },
   "outputs": [
    {
     "data": {
      "image/png": "[encoded data removed]",
      "text/plain": [
       "<matplotlib.figure.Figure at 0x7f3264696710>"
      ]
     },
     "metadata": {},
     "output_type": "display_data"
    }
   ],
   "source": [
    "ultrasonic.plot()"
   ]
  },
  {
   "cell_type": "markdown",
   "metadata": {},
   "source": [
    "Let's put together the last two exercises in a simple application: [wandering](Wandering.ipynb)."
   ]
  },
  {
   "cell_type": "markdown",
   "metadata": {
    "collapsed": true
   },
   "source": [
    "---\n",
    "#### Try-a-Bot: an open source guide for robot programming\n",
    "Developed by:\n",
    "[![Robotic Intelligence Lab @ UJI](img/logo/robinlab.png \"Robotic Intelligence Lab @ UJI\")](http://robinlab.uji.es)\n",
    "\n",
    "Sponsored by:\n",
    "<table>\n",
    "<tr>\n",
    "<td style=\"border:1px solid #ffffff ;\">\n",
    "<a href=\"http://www.ieee-ras.org\"><img src=\"img/logo/ras.png\"></a>\n",
    "</td>\n",
    "<td style=\"border:1px solid #ffffff ;\">\n",
    "<a href=\"http://www.cyberbotics.com\"><img src=\"img/logo/cyberbotics.png\"></a>\n",
    "</td>\n",
    "<td style=\"border:1px solid #ffffff ;\">\n",
    "<a href=\"http://www.theconstructsim.com\"><img src=\"img/logo/theconstruct.png\"></a>\n",
    "</td>\n",
    "</tr>\n",
    "</table>\n",
    "\n",
    "Follow us:\n",
    "<table>\n",
    "<tr>\n",
    "<td style=\"border:1px solid #ffffff ;\">\n",
    "<a href=\"https://www.facebook.com/RobotProgrammingNetwork\"><img src=\"img/logo/facebook.png\"></a>\n",
    "</td>\n",
    "<td style=\"border:1px solid #ffffff ;\">\n",
    "<a href=\"https://www.youtube.com/user/robotprogrammingnet\"><img src=\"img/logo/youtube.png\"></a>\n",
    "</td>\n",
    "</tr>\n",
    "</table>\n"
   ]
  }
 ],
 "metadata": {
  "kernelspec": {
   "display_name": "Python 2",
   "language": "python",
   "name": "python2"
  },
  "language_info": {
   "codemirror_mode": {
    "name": "ipython",
    "version": 2
   },
   "file_extension": ".py",
   "mimetype": "text/x-python",
   "name": "python",
   "nbconvert_exporter": "python",
   "pygments_lexer": "ipython2",
   "version": "2.7.11"
  }
 },
 "nbformat": 4,
 "nbformat_minor": 0
}
